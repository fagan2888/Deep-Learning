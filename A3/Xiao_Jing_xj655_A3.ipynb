{
 "cells": [
  {
   "cell_type": "markdown",
   "metadata": {},
   "source": [
    "# Deep Learning Assignment3: Batch Norm\n",
    "\n",
    "## Author : Xiao Jing j655"
   ]
  },
  {
   "cell_type": "markdown",
   "metadata": {},
   "source": [
    "## 0. Setup"
   ]
  },
  {
   "cell_type": "code",
   "execution_count": 1,
   "metadata": {},
   "outputs": [],
   "source": [
    "# Import dependencies\n",
    "import torch\n",
    "import torch.nn as nn\n",
    "import torch.nn.functional as F\n",
    "import torch.optim as optim\n",
    "from torch.utils.data import DataLoader\n",
    "from torchvision import datasets, transforms\n",
    "import numpy as np"
   ]
  },
  {
   "cell_type": "code",
   "execution_count": 2,
   "metadata": {},
   "outputs": [
    {
     "data": {
      "text/plain": [
       "False"
      ]
     },
     "execution_count": 2,
     "metadata": {},
     "output_type": "execute_result"
    }
   ],
   "source": []
  },
  {
   "cell_type": "code",
   "execution_count": 57,
   "metadata": {},
   "outputs": [],
   "source": [
    "# Set up your device \n",
    "cuda = torch.cuda.is_available()\n",
    "device = torch.device(\"cuda:0\" if cuda else \"cpu\")"
   ]
  },
  {
   "cell_type": "code",
   "execution_count": 58,
   "metadata": {},
   "outputs": [],
   "source": [
    "# Set up random seed to 1008. Do not change the random seed.\n",
    "seed = 1008\n",
    "torch.manual_seed(seed)\n",
    "if cuda:\n",
    "    torch.cuda.manual_seed_all(seed)"
   ]
  },
  {
   "cell_type": "markdown",
   "metadata": {},
   "source": [
    "## 1. Data: MNIST\n",
    "#### Load the MNIST training and test dataset using $\\texttt{torch.utils.data.DataLoader}$ and $\\texttt{torchvision.datasets}$. \n",
    "\n",
    "Hint: You might find Alf's notebook useful: https://github.com/Atcold/pytorch-Deep-Learning-Minicourse/blob/master/06-convnet.ipynb"
   ]
  },
  {
   "cell_type": "markdown",
   "metadata": {},
   "source": [
    "### 1.1. Load Training Set [4 pts]"
   ]
  },
  {
   "cell_type": "code",
   "execution_count": 60,
   "metadata": {},
   "outputs": [],
   "source": [
    "# Load the MNIST training set with batch size 128, apply data shuffling and normalization\n",
    "\n",
    "\n",
    "train_loader = DataLoader(\n",
    "    datasets.MNIST('../data', train=True, download=True,\n",
    "                   transform=transforms.Compose([\n",
    "                       transforms.ToTensor(),\n",
    "                       transforms.Normalize((0.1307,), (0.3081,))\n",
    "                   ])),\n",
    "    batch_size=128, shuffle=True)\n"
   ]
  },
  {
   "cell_type": "code",
   "execution_count": 81,
   "metadata": {},
   "outputs": [
    {
     "data": {
      "text/plain": [
       "469"
      ]
     },
     "execution_count": 81,
     "metadata": {},
     "output_type": "execute_result"
    }
   ],
   "source": [
    "len(train_loader)"
   ]
  },
  {
   "cell_type": "markdown",
   "metadata": {},
   "source": [
    "### 1.1. Load Test Set [4 pts]"
   ]
  },
  {
   "cell_type": "code",
   "execution_count": 61,
   "metadata": {},
   "outputs": [],
   "source": [
    "# Load the MNIST test set with batch size 128, apply data shuffling and normalization\n",
    "test_loader = DataLoader(\n",
    "    datasets.MNIST('../data', train=False, transform=transforms.Compose([\n",
    "                       transforms.ToTensor(),\n",
    "                       transforms.Normalize((0.1307,), (0.3081,))\n",
    "                   ])),\n",
    "    batch_size=128, shuffle=True)"
   ]
  },
  {
   "cell_type": "markdown",
   "metadata": {},
   "source": [
    "## 2. Models\n",
    "#### You are going to define two convolutional neural networks which are trained to classify MNIST digits"
   ]
  },
  {
   "cell_type": "markdown",
   "metadata": {},
   "source": [
    "### 2.1. CNN without Batch Norm [15 pts]"
   ]
  },
  {
   "cell_type": "code",
   "execution_count": 62,
   "metadata": {},
   "outputs": [],
   "source": [
    "# Fill in the values below that make this network valid for MNIST data\n",
    "\n",
    "conv1_in_ch = 1\n",
    "conv2_in_ch = 20\n",
    "fc1_in_features =  4*4*50\n",
    "fc2_in_features = 500\n",
    "n_classes = 10"
   ]
  },
  {
   "cell_type": "code",
   "execution_count": 64,
   "metadata": {},
   "outputs": [],
   "source": [
    "class NetWithoutBatchNorm(nn.Module):\n",
    "    def __init__(self):\n",
    "        super(NetWithoutBatchNorm, self).__init__()\n",
    "        self.conv1 = nn.Conv2d(in_channels=conv1_in_ch, out_channels=20, kernel_size=5, stride=1)\n",
    "        self.conv2 = nn.Conv2d(in_channels=conv2_in_ch, out_channels=50, kernel_size=5, stride=1)\n",
    "        self.fc1 = nn.Linear(in_features=fc1_in_features, out_features=500)\n",
    "        self.fc2 = nn.Linear(in_features=fc2_in_features, out_features=n_classes)\n",
    "\n",
    "    def forward(self, x): #28*28*1\n",
    "        x = F.relu(self.conv1(x))#24*24*20\n",
    "        x = F.max_pool2d(x, kernel_size=2, stride=2) #12*12*20\n",
    "        x = F.relu(self.conv2(x)) # 8*8*50\n",
    "        x = F.max_pool2d(x, kernel_size=2, stride=2) # 4*4*50\n",
    "        x = x.view(-1, fc1_in_features) # reshaping \n",
    "        x = F.relu(self.fc1(x))\n",
    "        x = self.fc2(x)\n",
    "        # Return the log_softmax of x.\n",
    "        x = F.log_softmax(x, dim=1)\n",
    "        return x"
   ]
  },
  {
   "cell_type": "markdown",
   "metadata": {},
   "source": [
    "### 2.2. CNN with Batch Norm [15 pts]"
   ]
  },
  {
   "cell_type": "code",
   "execution_count": 90,
   "metadata": {},
   "outputs": [],
   "source": [
    "# Fill in the values below that make this network valid for MNIST data\n",
    "\n",
    "conv1_bn_size = 20\n",
    "conv2_bn_size = 50\n",
    "fc1_bn_size = 500"
   ]
  },
  {
   "cell_type": "code",
   "execution_count": 66,
   "metadata": {},
   "outputs": [],
   "source": [
    "# Define the CNN with architecture explained in Part 2.2\n",
    "class NetWithBatchNorm(nn.Module):\n",
    "    def __init__(self):\n",
    "        super(NetWithBatchNorm, self).__init__()\n",
    "        self.conv1 = nn.Conv2d(in_channels=conv1_in_ch, out_channels=20, kernel_size=5, stride=1)\n",
    "        self.conv1_bn = nn.BatchNorm2d(conv1_bn_size)\n",
    "        self.conv2 = nn.Conv2d(in_channels=conv2_in_ch, out_channels=50, kernel_size=5, stride=1)\n",
    "        self.conv2_bn = nn.BatchNorm2d(conv2_bn_size)\n",
    "        self.fc1 = nn.Linear(in_features=fc1_in_features, out_features=500)\n",
    "        self.fc1_bn = nn.BatchNorm1d(fc1_bn_size)\n",
    "        self.fc2 = nn.Linear(in_features=fc2_in_features, out_features=n_classes)\n",
    "\n",
    "    def forward(self, x):\n",
    "        x = F.relu(self.conv1_bn(self.conv1(x)))\n",
    "        x = F.max_pool2d(x, kernel_size=2, stride=2)\n",
    "        x = F.relu(self.conv2_bn(self.conv2(x)))\n",
    "        x = F.max_pool2d(x, kernel_size=2, stride=2)\n",
    "        x = x.view(-1, fc1_in_features)\n",
    "        x = F.relu(self.fc1_bn(self.fc1(x)))\n",
    "        x = self.fc2(x)\n",
    "        # Return the log_softmax of x.\n",
    "        x = F.log_softmax(x, dim=1)\n",
    "        return x"
   ]
  },
  {
   "cell_type": "markdown",
   "metadata": {},
   "source": [
    "## 3. Training & Evaluation"
   ]
  },
  {
   "cell_type": "markdown",
   "metadata": {},
   "source": [
    "### 3.1. Define training method [15 pts]"
   ]
  },
  {
   "cell_type": "code",
   "execution_count": 67,
   "metadata": {},
   "outputs": [],
   "source": [
    "def train(model, device, train_loader, optimizer, epoch, log_interval = 100,perm=torch.arange(0, 784).long()):\n",
    "    # Set model to training mode\n",
    "    model.train()\n",
    "    # Loop through data points\n",
    "    for batch_idx, (data, target) in enumerate(train_loader):\n",
    "        #pass # remove once implemented\n",
    "    \n",
    "        # Send data and target to device  \n",
    "        # TODO\n",
    "        model.to(device)\n",
    "        \n",
    "        # Zero out the optimizer\n",
    "        # TODO\n",
    "        optimizer.zero_grad()\n",
    "        \n",
    "        \n",
    "        # Pass data through model\n",
    "        # TODO\n",
    "        output = model(data)\n",
    "        \n",
    "        \n",
    "        # Compute the negative log likelihood loss\n",
    "        # TODO\n",
    "        loss = F.nll_loss(output, target)\n",
    "        \n",
    "        # Backpropagate loss\n",
    "        # TODO\n",
    "        loss.backward()\n",
    "        \n",
    "        # Make a step with the optimizer\n",
    "        # TODO\n",
    "        optimizer.step()\n",
    "        # Print loss (uncomment lines below once implemented)\n",
    "        if batch_idx % log_interval == 0:\n",
    "            print('Train Epoch: {} [{}/{} ({:.0f}%)]\\tLoss: {:.6f}'.format(\n",
    "                batch_indx, batch_idx * len(data), len(train_loader.dataset),\n",
    "                100. * batch_idx / len(train_loader), loss.item()))"
   ]
  },
  {
   "cell_type": "markdown",
   "metadata": {},
   "source": [
    "### 3.2. Define test method [15 pts]"
   ]
  },
  {
   "cell_type": "code",
   "execution_count": 85,
   "metadata": {},
   "outputs": [],
   "source": [
    "# Define test method\n",
    "def test(model, device, test_loader,perm=torch.arange(0, 784).long()):\n",
    "    # Set model to evaluation mode\n",
    "    model.eval()\n",
    "    # Variable for the total loss \n",
    "    test_loss = 0\n",
    "    # Counter for the correct predictions\n",
    "    num_correct = 0\n",
    "    \n",
    "    with torch.no_grad():\n",
    "        # Loop through data points\n",
    "        for data, target in test_loader:\n",
    "            #pass # remove once implemented\n",
    "        \n",
    "            # Send data to device            \n",
    "            # TODO\n",
    "            model.to(device)\n",
    "            \n",
    "            # Pass data through model\n",
    "            # TODO \n",
    "            output = model(data)\n",
    "            # Compute the negative log likelihood loss with reduction='sum' and add to total test_loss\n",
    "            # TODO\n",
    "            test_loss += F.nll_loss(output, target, reduction='sum').item()\n",
    "            # Get predictions from the model for each data point\n",
    "            # TODO \n",
    "            pred = output.data.max(1, keepdim=True)[1]\n",
    "            # Add number of correct predictions to total num_correct \n",
    "            # TODO\n",
    "            num_correct += pred.eq(target.data.view_as(pred)).cpu().sum().item()\n",
    "    # Compute the average test_loss\n",
    "    avg_test_loss  = test_loss / len(test_loader.dataset)\n",
    "    accuracy = 100. *  num_correct / len(test_loader.dataset)\n",
    "    # Print loss (uncomment lines below once implemented)\n",
    "    print('\\nTest set: Average loss: {:.4f}, Accuracy: {}/{} ({:.0f}%)\\n'.format(\n",
    "        avg_test_loss, num_correct, len(test_loader.dataset),\n",
    "        accuracy))"
   ]
  },
  {
   "cell_type": "markdown",
   "metadata": {},
   "source": [
    "### 3.3 Train NetWithoutBatchNorm() [5 pts]"
   ]
  },
  {
   "cell_type": "code",
   "execution_count": 86,
   "metadata": {},
   "outputs": [
    {
     "name": "stdout",
     "output_type": "stream",
     "text": [
      "Train Epoch: 1 [0/60000 (0%)]\tLoss: 2.310994\n",
      "Train Epoch: 1 [12800/60000 (21%)]\tLoss: 0.478528\n",
      "Train Epoch: 1 [25600/60000 (43%)]\tLoss: 0.234608\n",
      "Train Epoch: 1 [38400/60000 (64%)]\tLoss: 0.274964\n",
      "Train Epoch: 1 [51200/60000 (85%)]\tLoss: 0.307261\n",
      "\n",
      "Test set: Average loss: 0.1774, Accuracy: 9447/10000 (94%)\n",
      "\n",
      "Train Epoch: 2 [0/60000 (0%)]\tLoss: 0.148213\n",
      "Train Epoch: 2 [12800/60000 (21%)]\tLoss: 0.165623\n",
      "Train Epoch: 2 [25600/60000 (43%)]\tLoss: 0.197644\n",
      "Train Epoch: 2 [38400/60000 (64%)]\tLoss: 0.248426\n",
      "Train Epoch: 2 [51200/60000 (85%)]\tLoss: 0.135295\n",
      "\n",
      "Test set: Average loss: 0.1194, Accuracy: 9634/10000 (96%)\n",
      "\n",
      "Train Epoch: 3 [0/60000 (0%)]\tLoss: 0.101527\n",
      "Train Epoch: 3 [12800/60000 (21%)]\tLoss: 0.123529\n",
      "Train Epoch: 3 [25600/60000 (43%)]\tLoss: 0.095013\n",
      "Train Epoch: 3 [38400/60000 (64%)]\tLoss: 0.046872\n",
      "Train Epoch: 3 [51200/60000 (85%)]\tLoss: 0.090121\n",
      "\n",
      "Test set: Average loss: 0.0720, Accuracy: 9781/10000 (98%)\n",
      "\n",
      "Train Epoch: 4 [0/60000 (0%)]\tLoss: 0.126439\n",
      "Train Epoch: 4 [12800/60000 (21%)]\tLoss: 0.042240\n",
      "Train Epoch: 4 [25600/60000 (43%)]\tLoss: 0.061257\n",
      "Train Epoch: 4 [38400/60000 (64%)]\tLoss: 0.057683\n",
      "Train Epoch: 4 [51200/60000 (85%)]\tLoss: 0.084489\n",
      "\n",
      "Test set: Average loss: 0.0557, Accuracy: 9826/10000 (98%)\n",
      "\n",
      "Train Epoch: 5 [0/60000 (0%)]\tLoss: 0.068642\n",
      "Train Epoch: 5 [12800/60000 (21%)]\tLoss: 0.036536\n",
      "Train Epoch: 5 [25600/60000 (43%)]\tLoss: 0.175416\n",
      "Train Epoch: 5 [38400/60000 (64%)]\tLoss: 0.043837\n",
      "Train Epoch: 5 [51200/60000 (85%)]\tLoss: 0.082391\n",
      "\n",
      "Test set: Average loss: 0.0676, Accuracy: 9781/10000 (98%)\n",
      "\n",
      "Train Epoch: 6 [0/60000 (0%)]\tLoss: 0.128583\n",
      "Train Epoch: 6 [12800/60000 (21%)]\tLoss: 0.080394\n",
      "Train Epoch: 6 [25600/60000 (43%)]\tLoss: 0.047192\n",
      "Train Epoch: 6 [38400/60000 (64%)]\tLoss: 0.046110\n",
      "Train Epoch: 6 [51200/60000 (85%)]\tLoss: 0.014431\n",
      "\n",
      "Test set: Average loss: 0.0479, Accuracy: 9841/10000 (98%)\n",
      "\n",
      "Train Epoch: 7 [0/60000 (0%)]\tLoss: 0.046186\n",
      "Train Epoch: 7 [12800/60000 (21%)]\tLoss: 0.026633\n",
      "Train Epoch: 7 [25600/60000 (43%)]\tLoss: 0.047256\n",
      "Train Epoch: 7 [38400/60000 (64%)]\tLoss: 0.066328\n",
      "Train Epoch: 7 [51200/60000 (85%)]\tLoss: 0.031251\n",
      "\n",
      "Test set: Average loss: 0.0439, Accuracy: 9854/10000 (99%)\n",
      "\n",
      "Train Epoch: 8 [0/60000 (0%)]\tLoss: 0.021411\n",
      "Train Epoch: 8 [12800/60000 (21%)]\tLoss: 0.053889\n",
      "Train Epoch: 8 [25600/60000 (43%)]\tLoss: 0.016022\n",
      "Train Epoch: 8 [38400/60000 (64%)]\tLoss: 0.038362\n",
      "Train Epoch: 8 [51200/60000 (85%)]\tLoss: 0.023700\n",
      "\n",
      "Test set: Average loss: 0.0421, Accuracy: 9853/10000 (99%)\n",
      "\n",
      "Train Epoch: 9 [0/60000 (0%)]\tLoss: 0.027048\n",
      "Train Epoch: 9 [12800/60000 (21%)]\tLoss: 0.031658\n",
      "Train Epoch: 9 [25600/60000 (43%)]\tLoss: 0.032313\n",
      "Train Epoch: 9 [38400/60000 (64%)]\tLoss: 0.038527\n",
      "Train Epoch: 9 [51200/60000 (85%)]\tLoss: 0.089097\n",
      "\n",
      "Test set: Average loss: 0.0392, Accuracy: 9879/10000 (99%)\n",
      "\n",
      "Train Epoch: 10 [0/60000 (0%)]\tLoss: 0.127625\n",
      "Train Epoch: 10 [12800/60000 (21%)]\tLoss: 0.017761\n",
      "Train Epoch: 10 [25600/60000 (43%)]\tLoss: 0.057538\n",
      "Train Epoch: 10 [38400/60000 (64%)]\tLoss: 0.025041\n",
      "Train Epoch: 10 [51200/60000 (85%)]\tLoss: 0.017955\n",
      "\n",
      "Test set: Average loss: 0.0404, Accuracy: 9877/10000 (99%)\n",
      "\n"
     ]
    }
   ],
   "source": [
    "\n",
    "# Deifne model and sent to device\n",
    "model = NetWithoutBatchNorm()\n",
    "#?????????????????????????????????sent to device\n",
    "\n",
    "# Optimizer: SGD with learning rate of 1e-2 and momentum of 0.5\n",
    "optimizer = optim.SGD(model.parameters(), lr=0.01, momentum=0.5)\n",
    "\n",
    "# Training loop with 10 epochs\n",
    "for epoch in range(1, 10 + 1):\n",
    "    #pass # remove once implemented\n",
    "    # Train model\n",
    "    train(model, device, train_loader, optimizer, epoch)\n",
    "    # Test model\n",
    "    test(model,device, test_loader)"
   ]
  },
  {
   "cell_type": "markdown",
   "metadata": {},
   "source": [
    "### 3.4 Train NetWithBatchNorm() [5 pts]"
   ]
  },
  {
   "cell_type": "code",
   "execution_count": 91,
   "metadata": {},
   "outputs": [
    {
     "name": "stdout",
     "output_type": "stream",
     "text": [
      "Train Epoch: 1 [0/60000 (0%)]\tLoss: 2.343081\n",
      "Train Epoch: 1 [12800/60000 (21%)]\tLoss: 0.406109\n",
      "Train Epoch: 1 [25600/60000 (43%)]\tLoss: 0.200201\n",
      "Train Epoch: 1 [38400/60000 (64%)]\tLoss: 0.124634\n",
      "Train Epoch: 1 [51200/60000 (85%)]\tLoss: 0.084208\n",
      "\n",
      "Test set: Average loss: 0.1072, Accuracy: 9764/10000 (98%)\n",
      "\n",
      "Train Epoch: 2 [0/60000 (0%)]\tLoss: 0.135641\n",
      "Train Epoch: 2 [12800/60000 (21%)]\tLoss: 0.140672\n",
      "Train Epoch: 2 [25600/60000 (43%)]\tLoss: 0.071285\n",
      "Train Epoch: 2 [38400/60000 (64%)]\tLoss: 0.111352\n",
      "Train Epoch: 2 [51200/60000 (85%)]\tLoss: 0.075567\n",
      "\n",
      "Test set: Average loss: 0.0677, Accuracy: 9836/10000 (98%)\n",
      "\n",
      "Train Epoch: 3 [0/60000 (0%)]\tLoss: 0.093614\n",
      "Train Epoch: 3 [12800/60000 (21%)]\tLoss: 0.079756\n",
      "Train Epoch: 3 [25600/60000 (43%)]\tLoss: 0.054882\n",
      "Train Epoch: 3 [38400/60000 (64%)]\tLoss: 0.050990\n",
      "Train Epoch: 3 [51200/60000 (85%)]\tLoss: 0.044233\n",
      "\n",
      "Test set: Average loss: 0.0539, Accuracy: 9858/10000 (99%)\n",
      "\n",
      "Train Epoch: 4 [0/60000 (0%)]\tLoss: 0.041288\n",
      "Train Epoch: 4 [12800/60000 (21%)]\tLoss: 0.124000\n",
      "Train Epoch: 4 [25600/60000 (43%)]\tLoss: 0.069543\n",
      "Train Epoch: 4 [38400/60000 (64%)]\tLoss: 0.068817\n",
      "Train Epoch: 4 [51200/60000 (85%)]\tLoss: 0.029074\n",
      "\n",
      "Test set: Average loss: 0.0456, Accuracy: 9874/10000 (99%)\n",
      "\n",
      "Train Epoch: 5 [0/60000 (0%)]\tLoss: 0.053121\n",
      "Train Epoch: 5 [12800/60000 (21%)]\tLoss: 0.019953\n",
      "Train Epoch: 5 [25600/60000 (43%)]\tLoss: 0.046723\n",
      "Train Epoch: 5 [38400/60000 (64%)]\tLoss: 0.061362\n",
      "Train Epoch: 5 [51200/60000 (85%)]\tLoss: 0.033484\n",
      "\n",
      "Test set: Average loss: 0.0394, Accuracy: 9883/10000 (99%)\n",
      "\n",
      "Train Epoch: 6 [0/60000 (0%)]\tLoss: 0.042854\n",
      "Train Epoch: 6 [12800/60000 (21%)]\tLoss: 0.020507\n",
      "Train Epoch: 6 [25600/60000 (43%)]\tLoss: 0.027738\n",
      "Train Epoch: 6 [38400/60000 (64%)]\tLoss: 0.041692\n",
      "Train Epoch: 6 [51200/60000 (85%)]\tLoss: 0.039003\n",
      "\n",
      "Test set: Average loss: 0.0354, Accuracy: 9906/10000 (99%)\n",
      "\n",
      "Train Epoch: 7 [0/60000 (0%)]\tLoss: 0.014906\n",
      "Train Epoch: 7 [12800/60000 (21%)]\tLoss: 0.019335\n",
      "Train Epoch: 7 [25600/60000 (43%)]\tLoss: 0.065124\n",
      "Train Epoch: 7 [38400/60000 (64%)]\tLoss: 0.051651\n",
      "Train Epoch: 7 [51200/60000 (85%)]\tLoss: 0.035459\n",
      "\n",
      "Test set: Average loss: 0.0333, Accuracy: 9899/10000 (99%)\n",
      "\n",
      "Train Epoch: 8 [0/60000 (0%)]\tLoss: 0.027767\n",
      "Train Epoch: 8 [12800/60000 (21%)]\tLoss: 0.024868\n",
      "Train Epoch: 8 [25600/60000 (43%)]\tLoss: 0.025211\n",
      "Train Epoch: 8 [38400/60000 (64%)]\tLoss: 0.052641\n",
      "Train Epoch: 8 [51200/60000 (85%)]\tLoss: 0.037340\n",
      "\n",
      "Test set: Average loss: 0.0317, Accuracy: 9903/10000 (99%)\n",
      "\n",
      "Train Epoch: 9 [0/60000 (0%)]\tLoss: 0.023892\n",
      "Train Epoch: 9 [12800/60000 (21%)]\tLoss: 0.027880\n",
      "Train Epoch: 9 [25600/60000 (43%)]\tLoss: 0.015096\n",
      "Train Epoch: 9 [38400/60000 (64%)]\tLoss: 0.030455\n",
      "Train Epoch: 9 [51200/60000 (85%)]\tLoss: 0.019588\n",
      "\n",
      "Test set: Average loss: 0.0354, Accuracy: 9894/10000 (99%)\n",
      "\n",
      "Train Epoch: 10 [0/60000 (0%)]\tLoss: 0.033469\n",
      "Train Epoch: 10 [12800/60000 (21%)]\tLoss: 0.010765\n",
      "Train Epoch: 10 [25600/60000 (43%)]\tLoss: 0.035829\n",
      "Train Epoch: 10 [38400/60000 (64%)]\tLoss: 0.012856\n",
      "Train Epoch: 10 [51200/60000 (85%)]\tLoss: 0.017733\n",
      "\n",
      "Test set: Average loss: 0.0303, Accuracy: 9909/10000 (99%)\n",
      "\n"
     ]
    }
   ],
   "source": [
    "# Deifne model and sent to device\n",
    "model = NetWithBatchNorm()\n",
    "#sent to device\n",
    "model.to(device)\n",
    "# Optimizer: SGD with learning rate of 1e-2 and momentum of 0.5\n",
    "optimizer = optim.SGD(model.parameters(), lr=0.01, momentum=0.5)\n",
    "\n",
    "\n",
    "# Training loop with 10 epochs\n",
    "for epoch in range(1, 10 + 1):\n",
    "    pass # remove once implemented\n",
    "    \n",
    "    # Train model\n",
    "    train(model, device, train_loader, optimizer, epoch)\n",
    "    \n",
    "    # Test model\n",
    "    test(model,device, test_loader)"
   ]
  },
  {
   "cell_type": "markdown",
   "metadata": {},
   "source": [
    "## 4. Empirically, which of the models achieves higher accuracy faster? [2 pts]"
   ]
  },
  {
   "cell_type": "markdown",
   "metadata": {},
   "source": [
    "Answer:  The model with Batch Norm seems run faster to achieve higher accuracy."
   ]
  }
 ],
 "metadata": {
  "kernelspec": {
   "display_name": "Python 3",
   "language": "python",
   "name": "python3"
  },
  "language_info": {
   "codemirror_mode": {
    "name": "ipython",
    "version": 3
   },
   "file_extension": ".py",
   "mimetype": "text/x-python",
   "name": "python",
   "nbconvert_exporter": "python",
   "pygments_lexer": "ipython3",
   "version": "3.7.1"
  }
 },
 "nbformat": 4,
 "nbformat_minor": 2
}
